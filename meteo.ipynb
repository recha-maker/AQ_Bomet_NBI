{
 "cells": [
  {
   "cell_type": "code",
   "execution_count": null,
   "id": "f46e9fcc",
   "metadata": {},
   "outputs": [],
   "source": [
    "file_path = \"data/meteo/VRXA00.202310190530\"\n",
    "print(\"file_path\")"
   ]
  },
  {
   "cell_type": "code",
   "execution_count": null,
   "id": "304c594b",
   "metadata": {},
   "outputs": [],
   "source": []
  },
  {
   "cell_type": "code",
   "execution_count": null,
   "id": "845cfa18",
   "metadata": {},
   "outputs": [],
   "source": []
  },
  {
   "cell_type": "code",
   "execution_count": 1,
   "id": "a71f4f4e",
   "metadata": {},
   "outputs": [
    {
     "name": "stdout",
     "output_type": "stream",
     "text": [
      "file_path\n"
     ]
    }
   ],
   "source": [
    "file_path = \"data/meteo/VRXA00.202310190530\"\n",
    "print(\"file_path\")"
   ]
  },
  {
   "cell_type": "code",
   "execution_count": 3,
   "id": "f7030c0e",
   "metadata": {},
   "outputs": [
    {
     "name": "stdout",
     "output_type": "stream",
     "text": [
      "['16082\\n', 'VRXA00 LSSW 190530\\n', '\\n', 'iii zzzztttt tre200s0 uor200s0 prestas0 fa1010z0 da1010z0 rre150z0 ta1200s0 ua1200s0 pa1stas0 fkl010z0 dkl010z0 ra1150z0 fkl010z1 gor000z0 ta2200s0 ua2200s0\\n', '187 202310190530 007.3 098.6 0662.9 003.4 329.6 00000.00 006.8 100.0 0662.7 003.9 008.6 00000.00 004.8 283.9 7.770 99.320\\n']\n"
     ]
    }
   ],
   "source": [
    "with open(file = file_path) as fh:\n",
    "    file_content = fh.readlines()\n",
    "    print(file_content)"
   ]
  },
  {
   "cell_type": "code",
   "execution_count": 9,
   "id": "3e42fddb",
   "metadata": {},
   "outputs": [
    {
     "name": "stdout",
     "output_type": "stream",
     "text": [
      "iii zzzztttt tre200s0 uor200s0 prestas0 fa1010z0 da1010z0 rre150z0 ta1200s0 ua1200s0 pa1stas0 fkl010z0 dkl010z0 ra1150z0 fkl010z1 gor000z0 ta2200s0 ua2200s0\n",
      "\n",
      "list of header elements: ['iii', 'zzzztttt', 'tre200s0', 'uor200s0', 'prestas0', 'fa1010z0', 'da1010z0', 'rre150z0', 'ta1200s0', 'ua1200s0', 'pa1stas0', 'fkl010z0', 'dkl010z0', 'ra1150z0', 'fkl010z1', 'gor000z0', 'ta2200s0', 'ua2200s0']\n"
     ]
    }
   ],
   "source": [
    "header = file_content[3]\n",
    "print(header)\n",
    "header_list = header.split()\n",
    "print(\"list of header elements:\", header_list)"
   ]
  },
  {
   "cell_type": "code",
   "execution_count": 15,
   "id": "12c2567d",
   "metadata": {},
   "outputs": [
    {
     "name": "stdout",
     "output_type": "stream",
     "text": [
      "value: 007.3\n",
      "type of value: <class 'str'>\n",
      "value as floating point number:\n",
      "type of the rounded value:\n"
     ]
    }
   ],
   "source": [
    "value=file_content[4].split () [2]\n",
    "print(\"value:\", value)\n",
    "print(\"type of value:\", type(value))\n",
    "# print(int(value))\n",
    "print (\"value as floating point number:\",)\n",
    "print(\"type of the rounded value:\")"
   ]
  },
  {
   "cell_type": "code",
   "execution_count": 17,
   "id": "f0480fa4",
   "metadata": {},
   "outputs": [
    {
     "name": "stdout",
     "output_type": "stream",
     "text": [
      "0 : 1\n",
      "1 : 2\n",
      "2 : 4\n",
      "3 : 7\n",
      "4 : 11\n",
      "5 : 16\n",
      "6 : a is too big\n",
      "7 : a is too big\n",
      "8 : a is too big\n",
      "9 : a is too big\n"
     ]
    }
   ],
   "source": [
    "a = 1\n",
    "for i in range(10):\n",
    "    # a += 1\n",
    "    a = a + i\n",
    "    if a < 20:\n",
    "        print(i, \":\", a)\n",
    "    else:\n",
    "        print(i,\":\",\"a is too big\")"
   ]
  },
  {
   "cell_type": "code",
   "execution_count": 19,
   "id": "e3eeae2f",
   "metadata": {},
   "outputs": [
    {
     "name": "stdout",
     "output_type": "stream",
     "text": [
      "VRXA00.202310190000\n",
      "VRXA00.202310190520\n",
      "VRXA00.202310190530\n",
      "VRXA00.202310190540\n",
      "VRXA00.202310190600\n",
      "VRXA00.202310190610\n",
      "VRXA00.202310190630\n",
      "VRXA00.202310190640\n",
      "VRXA00.202310190650\n",
      "VRXA00.202310190700\n",
      "VRXA00.202401111520\n",
      "VRXA00.202401111530\n",
      "VRXA00.202401111540\n"
     ]
    }
   ],
   "source": [
    "import os\n",
    "path = \"data/meteo\"\n",
    "files = os.listdir(path)\n",
    "for file in files:\n",
    "    if \".zip\" in file:\n",
    "        continue\n",
    "    else:\n",
    "        print(file)"
   ]
  },
  {
   "cell_type": "code",
   "execution_count": 20,
   "id": "c8236ff0",
   "metadata": {},
   "outputs": [
    {
     "name": "stdout",
     "output_type": "stream",
     "text": [
      "VRXA00.202310190000 temp= 005.1\n",
      "VRXA00.202310190520 temp= /\n",
      "VRXA00.202310190530 temp= 007.3\n",
      "VRXA00.202310190540 temp= 007.0\n",
      "VRXA00.202310190600 temp= 007.8\n",
      "VRXA00.202310190610 temp= 008.6\n",
      "VRXA00.202310190630 temp= 008.0\n",
      "VRXA00.202310190640 temp= 008.1\n",
      "VRXA00.202310190650 temp= 008.5\n",
      "VRXA00.202310190700 temp= 008.6\n",
      "VRXA00.202401111520 temp= /\n",
      "VRXA00.202401111530 temp= /\n",
      "VRXA00.202401111540 temp= /\n"
     ]
    }
   ],
   "source": [
    "import os\n",
    "path = \"data/meteo\"\n",
    "files = os.listdir(path)\n",
    "for file in files:\n",
    "    if \".zip\" in file:\n",
    "        continue\n",
    "    else:\n",
    "        # print(file)\n",
    "        # Read files as text and print content\n",
    "        with open (file=os.path.join(path,file)) as fh:\n",
    "            file_content = fh.readlines ()\n",
    "            temp = file_content [4].split() [2]\n",
    "            print(file, \"temp=\", temp)"
   ]
  },
  {
   "cell_type": "code",
   "execution_count": 21,
   "id": "868f7c21",
   "metadata": {},
   "outputs": [
    {
     "name": "stdout",
     "output_type": "stream",
     "text": [
      "['005.1']\n",
      "['005.1', '/']\n",
      "['005.1', '/', '007.3']\n",
      "['005.1', '/', '007.3', '007.0']\n",
      "['005.1', '/', '007.3', '007.0', '007.8']\n",
      "['005.1', '/', '007.3', '007.0', '007.8', '008.6']\n",
      "['005.1', '/', '007.3', '007.0', '007.8', '008.6', '008.0']\n",
      "['005.1', '/', '007.3', '007.0', '007.8', '008.6', '008.0', '008.1']\n",
      "['005.1', '/', '007.3', '007.0', '007.8', '008.6', '008.0', '008.1', '008.5']\n",
      "['005.1', '/', '007.3', '007.0', '007.8', '008.6', '008.0', '008.1', '008.5', '008.6']\n",
      "['005.1', '/', '007.3', '007.0', '007.8', '008.6', '008.0', '008.1', '008.5', '008.6', '/']\n",
      "['005.1', '/', '007.3', '007.0', '007.8', '008.6', '008.0', '008.1', '008.5', '008.6', '/', '/']\n",
      "['005.1', '/', '007.3', '007.0', '007.8', '008.6', '008.0', '008.1', '008.5', '008.6', '/', '/', '/']\n"
     ]
    }
   ],
   "source": [
    "import os\n",
    "path = \"data/meteo\"\n",
    "files = os.listdir (path)\n",
    "temperature = list ()\n",
    "for file in files:\n",
    "    if \".zip\" in file:\n",
    "        continue\n",
    "    else:\n",
    "        #print(file)\n",
    "        #Read file as text and print content\n",
    "        with open(file=os.path.join(path,file)) as fh:\n",
    "            file_content = fh.readlines()\n",
    "            temp = file_content [4].split() [2]\n",
    "            temperature.append(temp)\n",
    "            print (temperature)"
   ]
  },
  {
   "cell_type": "code",
   "execution_count": null,
   "id": "8f4f5626",
   "metadata": {},
   "outputs": [],
   "source": [
    "import os\n",
    "path = \"data/meteo\"\n",
    "files = listdir(path)\n",
    "temperature = list ()\n",
    "for file in files:\n",
    "    continue\n",
    "else:\n",
    "    # Read files as text, extract temperature and print value\n",
    "    with open(file=os.path.join(path, file)) as fh:\n",
    "        temp = file_content[4].split()[2]\n",
    "        # append value to list\n",
    "        temperature.append(temp)\n",
    "        print(temperature)"
   ]
  }
 ],
 "metadata": {
  "kernelspec": {
   "display_name": ".venv",
   "language": "python",
   "name": "python3"
  },
  "language_info": {
   "codemirror_mode": {
    "name": "ipython",
    "version": 3
   },
   "file_extension": ".py",
   "mimetype": "text/x-python",
   "name": "python",
   "nbconvert_exporter": "python",
   "pygments_lexer": "ipython3",
   "version": "3.13.3"
  }
 },
 "nbformat": 4,
 "nbformat_minor": 5
}
